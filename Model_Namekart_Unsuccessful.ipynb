{
  "nbformat": 4,
  "nbformat_minor": 0,
  "metadata": {
    "colab": {
      "provenance": [],
      "authorship_tag": "ABX9TyPMCNvSB2Ff8q8/JYDO21IY",
      "include_colab_link": true
    },
    "kernelspec": {
      "name": "python3",
      "display_name": "Python 3"
    },
    "language_info": {
      "name": "python"
    },
    "widgets": {
      "application/vnd.jupyter.widget-state+json": {
        "1a6d17b228b84c2f89932de60fe0777e": {
          "model_module": "@jupyter-widgets/controls",
          "model_name": "HBoxModel",
          "model_module_version": "1.5.0",
          "state": {
            "_dom_classes": [],
            "_model_module": "@jupyter-widgets/controls",
            "_model_module_version": "1.5.0",
            "_model_name": "HBoxModel",
            "_view_count": null,
            "_view_module": "@jupyter-widgets/controls",
            "_view_module_version": "1.5.0",
            "_view_name": "HBoxView",
            "box_style": "",
            "children": [
              "IPY_MODEL_71905f18e55b4461aea816b6387a2c07",
              "IPY_MODEL_4449ea14f3494429a4fee7658de5e5c1",
              "IPY_MODEL_203d4e5e6dcf4fc09fd82ae3bbd84e92"
            ],
            "layout": "IPY_MODEL_3cb987981e1f4f628d23fa236a8f46d9"
          }
        },
        "71905f18e55b4461aea816b6387a2c07": {
          "model_module": "@jupyter-widgets/controls",
          "model_name": "HTMLModel",
          "model_module_version": "1.5.0",
          "state": {
            "_dom_classes": [],
            "_model_module": "@jupyter-widgets/controls",
            "_model_module_version": "1.5.0",
            "_model_name": "HTMLModel",
            "_view_count": null,
            "_view_module": "@jupyter-widgets/controls",
            "_view_module_version": "1.5.0",
            "_view_name": "HTMLView",
            "description": "",
            "description_tooltip": null,
            "layout": "IPY_MODEL_e245181a0b7f48dbb6d8d9c4ff4f6e59",
            "placeholder": "​",
            "style": "IPY_MODEL_f468fc3ec14549b6930d010d858d9232",
            "value": "config.json: 100%"
          }
        },
        "4449ea14f3494429a4fee7658de5e5c1": {
          "model_module": "@jupyter-widgets/controls",
          "model_name": "FloatProgressModel",
          "model_module_version": "1.5.0",
          "state": {
            "_dom_classes": [],
            "_model_module": "@jupyter-widgets/controls",
            "_model_module_version": "1.5.0",
            "_model_name": "FloatProgressModel",
            "_view_count": null,
            "_view_module": "@jupyter-widgets/controls",
            "_view_module_version": "1.5.0",
            "_view_name": "ProgressView",
            "bar_style": "success",
            "description": "",
            "description_tooltip": null,
            "layout": "IPY_MODEL_555f3cb8743145029b7ee6b2e04062be",
            "max": 483,
            "min": 0,
            "orientation": "horizontal",
            "style": "IPY_MODEL_2acf2b321a2347bb85a970248c395dd3",
            "value": 483
          }
        },
        "203d4e5e6dcf4fc09fd82ae3bbd84e92": {
          "model_module": "@jupyter-widgets/controls",
          "model_name": "HTMLModel",
          "model_module_version": "1.5.0",
          "state": {
            "_dom_classes": [],
            "_model_module": "@jupyter-widgets/controls",
            "_model_module_version": "1.5.0",
            "_model_name": "HTMLModel",
            "_view_count": null,
            "_view_module": "@jupyter-widgets/controls",
            "_view_module_version": "1.5.0",
            "_view_name": "HTMLView",
            "description": "",
            "description_tooltip": null,
            "layout": "IPY_MODEL_4ef291a2663341f7870f782210f2de99",
            "placeholder": "​",
            "style": "IPY_MODEL_813b61679b904cf185bf1fa10556daeb",
            "value": " 483/483 [00:00&lt;00:00, 31.1kB/s]"
          }
        },
        "3cb987981e1f4f628d23fa236a8f46d9": {
          "model_module": "@jupyter-widgets/base",
          "model_name": "LayoutModel",
          "model_module_version": "1.2.0",
          "state": {
            "_model_module": "@jupyter-widgets/base",
            "_model_module_version": "1.2.0",
            "_model_name": "LayoutModel",
            "_view_count": null,
            "_view_module": "@jupyter-widgets/base",
            "_view_module_version": "1.2.0",
            "_view_name": "LayoutView",
            "align_content": null,
            "align_items": null,
            "align_self": null,
            "border": null,
            "bottom": null,
            "display": null,
            "flex": null,
            "flex_flow": null,
            "grid_area": null,
            "grid_auto_columns": null,
            "grid_auto_flow": null,
            "grid_auto_rows": null,
            "grid_column": null,
            "grid_gap": null,
            "grid_row": null,
            "grid_template_areas": null,
            "grid_template_columns": null,
            "grid_template_rows": null,
            "height": null,
            "justify_content": null,
            "justify_items": null,
            "left": null,
            "margin": null,
            "max_height": null,
            "max_width": null,
            "min_height": null,
            "min_width": null,
            "object_fit": null,
            "object_position": null,
            "order": null,
            "overflow": null,
            "overflow_x": null,
            "overflow_y": null,
            "padding": null,
            "right": null,
            "top": null,
            "visibility": null,
            "width": null
          }
        },
        "e245181a0b7f48dbb6d8d9c4ff4f6e59": {
          "model_module": "@jupyter-widgets/base",
          "model_name": "LayoutModel",
          "model_module_version": "1.2.0",
          "state": {
            "_model_module": "@jupyter-widgets/base",
            "_model_module_version": "1.2.0",
            "_model_name": "LayoutModel",
            "_view_count": null,
            "_view_module": "@jupyter-widgets/base",
            "_view_module_version": "1.2.0",
            "_view_name": "LayoutView",
            "align_content": null,
            "align_items": null,
            "align_self": null,
            "border": null,
            "bottom": null,
            "display": null,
            "flex": null,
            "flex_flow": null,
            "grid_area": null,
            "grid_auto_columns": null,
            "grid_auto_flow": null,
            "grid_auto_rows": null,
            "grid_column": null,
            "grid_gap": null,
            "grid_row": null,
            "grid_template_areas": null,
            "grid_template_columns": null,
            "grid_template_rows": null,
            "height": null,
            "justify_content": null,
            "justify_items": null,
            "left": null,
            "margin": null,
            "max_height": null,
            "max_width": null,
            "min_height": null,
            "min_width": null,
            "object_fit": null,
            "object_position": null,
            "order": null,
            "overflow": null,
            "overflow_x": null,
            "overflow_y": null,
            "padding": null,
            "right": null,
            "top": null,
            "visibility": null,
            "width": null
          }
        },
        "f468fc3ec14549b6930d010d858d9232": {
          "model_module": "@jupyter-widgets/controls",
          "model_name": "DescriptionStyleModel",
          "model_module_version": "1.5.0",
          "state": {
            "_model_module": "@jupyter-widgets/controls",
            "_model_module_version": "1.5.0",
            "_model_name": "DescriptionStyleModel",
            "_view_count": null,
            "_view_module": "@jupyter-widgets/base",
            "_view_module_version": "1.2.0",
            "_view_name": "StyleView",
            "description_width": ""
          }
        },
        "555f3cb8743145029b7ee6b2e04062be": {
          "model_module": "@jupyter-widgets/base",
          "model_name": "LayoutModel",
          "model_module_version": "1.2.0",
          "state": {
            "_model_module": "@jupyter-widgets/base",
            "_model_module_version": "1.2.0",
            "_model_name": "LayoutModel",
            "_view_count": null,
            "_view_module": "@jupyter-widgets/base",
            "_view_module_version": "1.2.0",
            "_view_name": "LayoutView",
            "align_content": null,
            "align_items": null,
            "align_self": null,
            "border": null,
            "bottom": null,
            "display": null,
            "flex": null,
            "flex_flow": null,
            "grid_area": null,
            "grid_auto_columns": null,
            "grid_auto_flow": null,
            "grid_auto_rows": null,
            "grid_column": null,
            "grid_gap": null,
            "grid_row": null,
            "grid_template_areas": null,
            "grid_template_columns": null,
            "grid_template_rows": null,
            "height": null,
            "justify_content": null,
            "justify_items": null,
            "left": null,
            "margin": null,
            "max_height": null,
            "max_width": null,
            "min_height": null,
            "min_width": null,
            "object_fit": null,
            "object_position": null,
            "order": null,
            "overflow": null,
            "overflow_x": null,
            "overflow_y": null,
            "padding": null,
            "right": null,
            "top": null,
            "visibility": null,
            "width": null
          }
        },
        "2acf2b321a2347bb85a970248c395dd3": {
          "model_module": "@jupyter-widgets/controls",
          "model_name": "ProgressStyleModel",
          "model_module_version": "1.5.0",
          "state": {
            "_model_module": "@jupyter-widgets/controls",
            "_model_module_version": "1.5.0",
            "_model_name": "ProgressStyleModel",
            "_view_count": null,
            "_view_module": "@jupyter-widgets/base",
            "_view_module_version": "1.2.0",
            "_view_name": "StyleView",
            "bar_color": null,
            "description_width": ""
          }
        },
        "4ef291a2663341f7870f782210f2de99": {
          "model_module": "@jupyter-widgets/base",
          "model_name": "LayoutModel",
          "model_module_version": "1.2.0",
          "state": {
            "_model_module": "@jupyter-widgets/base",
            "_model_module_version": "1.2.0",
            "_model_name": "LayoutModel",
            "_view_count": null,
            "_view_module": "@jupyter-widgets/base",
            "_view_module_version": "1.2.0",
            "_view_name": "LayoutView",
            "align_content": null,
            "align_items": null,
            "align_self": null,
            "border": null,
            "bottom": null,
            "display": null,
            "flex": null,
            "flex_flow": null,
            "grid_area": null,
            "grid_auto_columns": null,
            "grid_auto_flow": null,
            "grid_auto_rows": null,
            "grid_column": null,
            "grid_gap": null,
            "grid_row": null,
            "grid_template_areas": null,
            "grid_template_columns": null,
            "grid_template_rows": null,
            "height": null,
            "justify_content": null,
            "justify_items": null,
            "left": null,
            "margin": null,
            "max_height": null,
            "max_width": null,
            "min_height": null,
            "min_width": null,
            "object_fit": null,
            "object_position": null,
            "order": null,
            "overflow": null,
            "overflow_x": null,
            "overflow_y": null,
            "padding": null,
            "right": null,
            "top": null,
            "visibility": null,
            "width": null
          }
        },
        "813b61679b904cf185bf1fa10556daeb": {
          "model_module": "@jupyter-widgets/controls",
          "model_name": "DescriptionStyleModel",
          "model_module_version": "1.5.0",
          "state": {
            "_model_module": "@jupyter-widgets/controls",
            "_model_module_version": "1.5.0",
            "_model_name": "DescriptionStyleModel",
            "_view_count": null,
            "_view_module": "@jupyter-widgets/base",
            "_view_module_version": "1.2.0",
            "_view_name": "StyleView",
            "description_width": ""
          }
        },
        "e64bf0dfdb9248aebd3a70a4a7a8c6b3": {
          "model_module": "@jupyter-widgets/controls",
          "model_name": "HBoxModel",
          "model_module_version": "1.5.0",
          "state": {
            "_dom_classes": [],
            "_model_module": "@jupyter-widgets/controls",
            "_model_module_version": "1.5.0",
            "_model_name": "HBoxModel",
            "_view_count": null,
            "_view_module": "@jupyter-widgets/controls",
            "_view_module_version": "1.5.0",
            "_view_name": "HBoxView",
            "box_style": "",
            "children": [
              "IPY_MODEL_89a0ad8119f1441bb3ea12d9484e374e",
              "IPY_MODEL_727190d9608c4920abc8c9a3f0aeb33e",
              "IPY_MODEL_54e1979a483649b580e28b9c29442cd1"
            ],
            "layout": "IPY_MODEL_051f0fc8a971490691cf1a36b0119354"
          }
        },
        "89a0ad8119f1441bb3ea12d9484e374e": {
          "model_module": "@jupyter-widgets/controls",
          "model_name": "HTMLModel",
          "model_module_version": "1.5.0",
          "state": {
            "_dom_classes": [],
            "_model_module": "@jupyter-widgets/controls",
            "_model_module_version": "1.5.0",
            "_model_name": "HTMLModel",
            "_view_count": null,
            "_view_module": "@jupyter-widgets/controls",
            "_view_module_version": "1.5.0",
            "_view_name": "HTMLView",
            "description": "",
            "description_tooltip": null,
            "layout": "IPY_MODEL_4c86d05939114a19a6ee57a0fb066e46",
            "placeholder": "​",
            "style": "IPY_MODEL_b714e52908ab492d9e2a93f82c91a7b0",
            "value": "model.safetensors: 100%"
          }
        },
        "727190d9608c4920abc8c9a3f0aeb33e": {
          "model_module": "@jupyter-widgets/controls",
          "model_name": "FloatProgressModel",
          "model_module_version": "1.5.0",
          "state": {
            "_dom_classes": [],
            "_model_module": "@jupyter-widgets/controls",
            "_model_module_version": "1.5.0",
            "_model_name": "FloatProgressModel",
            "_view_count": null,
            "_view_module": "@jupyter-widgets/controls",
            "_view_module_version": "1.5.0",
            "_view_name": "ProgressView",
            "bar_style": "success",
            "description": "",
            "description_tooltip": null,
            "layout": "IPY_MODEL_cd510e4212484a3cac4aa65ed0b866f0",
            "max": 267954768,
            "min": 0,
            "orientation": "horizontal",
            "style": "IPY_MODEL_ec3d33bd09d9474ea7681019b3208cfe",
            "value": 267954768
          }
        },
        "54e1979a483649b580e28b9c29442cd1": {
          "model_module": "@jupyter-widgets/controls",
          "model_name": "HTMLModel",
          "model_module_version": "1.5.0",
          "state": {
            "_dom_classes": [],
            "_model_module": "@jupyter-widgets/controls",
            "_model_module_version": "1.5.0",
            "_model_name": "HTMLModel",
            "_view_count": null,
            "_view_module": "@jupyter-widgets/controls",
            "_view_module_version": "1.5.0",
            "_view_name": "HTMLView",
            "description": "",
            "description_tooltip": null,
            "layout": "IPY_MODEL_e1892e9d5389409d971cffe2a967139c",
            "placeholder": "​",
            "style": "IPY_MODEL_90eb2b48571044cdae4d7d9899e69542",
            "value": " 268M/268M [00:01&lt;00:00, 213MB/s]"
          }
        },
        "051f0fc8a971490691cf1a36b0119354": {
          "model_module": "@jupyter-widgets/base",
          "model_name": "LayoutModel",
          "model_module_version": "1.2.0",
          "state": {
            "_model_module": "@jupyter-widgets/base",
            "_model_module_version": "1.2.0",
            "_model_name": "LayoutModel",
            "_view_count": null,
            "_view_module": "@jupyter-widgets/base",
            "_view_module_version": "1.2.0",
            "_view_name": "LayoutView",
            "align_content": null,
            "align_items": null,
            "align_self": null,
            "border": null,
            "bottom": null,
            "display": null,
            "flex": null,
            "flex_flow": null,
            "grid_area": null,
            "grid_auto_columns": null,
            "grid_auto_flow": null,
            "grid_auto_rows": null,
            "grid_column": null,
            "grid_gap": null,
            "grid_row": null,
            "grid_template_areas": null,
            "grid_template_columns": null,
            "grid_template_rows": null,
            "height": null,
            "justify_content": null,
            "justify_items": null,
            "left": null,
            "margin": null,
            "max_height": null,
            "max_width": null,
            "min_height": null,
            "min_width": null,
            "object_fit": null,
            "object_position": null,
            "order": null,
            "overflow": null,
            "overflow_x": null,
            "overflow_y": null,
            "padding": null,
            "right": null,
            "top": null,
            "visibility": null,
            "width": null
          }
        },
        "4c86d05939114a19a6ee57a0fb066e46": {
          "model_module": "@jupyter-widgets/base",
          "model_name": "LayoutModel",
          "model_module_version": "1.2.0",
          "state": {
            "_model_module": "@jupyter-widgets/base",
            "_model_module_version": "1.2.0",
            "_model_name": "LayoutModel",
            "_view_count": null,
            "_view_module": "@jupyter-widgets/base",
            "_view_module_version": "1.2.0",
            "_view_name": "LayoutView",
            "align_content": null,
            "align_items": null,
            "align_self": null,
            "border": null,
            "bottom": null,
            "display": null,
            "flex": null,
            "flex_flow": null,
            "grid_area": null,
            "grid_auto_columns": null,
            "grid_auto_flow": null,
            "grid_auto_rows": null,
            "grid_column": null,
            "grid_gap": null,
            "grid_row": null,
            "grid_template_areas": null,
            "grid_template_columns": null,
            "grid_template_rows": null,
            "height": null,
            "justify_content": null,
            "justify_items": null,
            "left": null,
            "margin": null,
            "max_height": null,
            "max_width": null,
            "min_height": null,
            "min_width": null,
            "object_fit": null,
            "object_position": null,
            "order": null,
            "overflow": null,
            "overflow_x": null,
            "overflow_y": null,
            "padding": null,
            "right": null,
            "top": null,
            "visibility": null,
            "width": null
          }
        },
        "b714e52908ab492d9e2a93f82c91a7b0": {
          "model_module": "@jupyter-widgets/controls",
          "model_name": "DescriptionStyleModel",
          "model_module_version": "1.5.0",
          "state": {
            "_model_module": "@jupyter-widgets/controls",
            "_model_module_version": "1.5.0",
            "_model_name": "DescriptionStyleModel",
            "_view_count": null,
            "_view_module": "@jupyter-widgets/base",
            "_view_module_version": "1.2.0",
            "_view_name": "StyleView",
            "description_width": ""
          }
        },
        "cd510e4212484a3cac4aa65ed0b866f0": {
          "model_module": "@jupyter-widgets/base",
          "model_name": "LayoutModel",
          "model_module_version": "1.2.0",
          "state": {
            "_model_module": "@jupyter-widgets/base",
            "_model_module_version": "1.2.0",
            "_model_name": "LayoutModel",
            "_view_count": null,
            "_view_module": "@jupyter-widgets/base",
            "_view_module_version": "1.2.0",
            "_view_name": "LayoutView",
            "align_content": null,
            "align_items": null,
            "align_self": null,
            "border": null,
            "bottom": null,
            "display": null,
            "flex": null,
            "flex_flow": null,
            "grid_area": null,
            "grid_auto_columns": null,
            "grid_auto_flow": null,
            "grid_auto_rows": null,
            "grid_column": null,
            "grid_gap": null,
            "grid_row": null,
            "grid_template_areas": null,
            "grid_template_columns": null,
            "grid_template_rows": null,
            "height": null,
            "justify_content": null,
            "justify_items": null,
            "left": null,
            "margin": null,
            "max_height": null,
            "max_width": null,
            "min_height": null,
            "min_width": null,
            "object_fit": null,
            "object_position": null,
            "order": null,
            "overflow": null,
            "overflow_x": null,
            "overflow_y": null,
            "padding": null,
            "right": null,
            "top": null,
            "visibility": null,
            "width": null
          }
        },
        "ec3d33bd09d9474ea7681019b3208cfe": {
          "model_module": "@jupyter-widgets/controls",
          "model_name": "ProgressStyleModel",
          "model_module_version": "1.5.0",
          "state": {
            "_model_module": "@jupyter-widgets/controls",
            "_model_module_version": "1.5.0",
            "_model_name": "ProgressStyleModel",
            "_view_count": null,
            "_view_module": "@jupyter-widgets/base",
            "_view_module_version": "1.2.0",
            "_view_name": "StyleView",
            "bar_color": null,
            "description_width": ""
          }
        },
        "e1892e9d5389409d971cffe2a967139c": {
          "model_module": "@jupyter-widgets/base",
          "model_name": "LayoutModel",
          "model_module_version": "1.2.0",
          "state": {
            "_model_module": "@jupyter-widgets/base",
            "_model_module_version": "1.2.0",
            "_model_name": "LayoutModel",
            "_view_count": null,
            "_view_module": "@jupyter-widgets/base",
            "_view_module_version": "1.2.0",
            "_view_name": "LayoutView",
            "align_content": null,
            "align_items": null,
            "align_self": null,
            "border": null,
            "bottom": null,
            "display": null,
            "flex": null,
            "flex_flow": null,
            "grid_area": null,
            "grid_auto_columns": null,
            "grid_auto_flow": null,
            "grid_auto_rows": null,
            "grid_column": null,
            "grid_gap": null,
            "grid_row": null,
            "grid_template_areas": null,
            "grid_template_columns": null,
            "grid_template_rows": null,
            "height": null,
            "justify_content": null,
            "justify_items": null,
            "left": null,
            "margin": null,
            "max_height": null,
            "max_width": null,
            "min_height": null,
            "min_width": null,
            "object_fit": null,
            "object_position": null,
            "order": null,
            "overflow": null,
            "overflow_x": null,
            "overflow_y": null,
            "padding": null,
            "right": null,
            "top": null,
            "visibility": null,
            "width": null
          }
        },
        "90eb2b48571044cdae4d7d9899e69542": {
          "model_module": "@jupyter-widgets/controls",
          "model_name": "DescriptionStyleModel",
          "model_module_version": "1.5.0",
          "state": {
            "_model_module": "@jupyter-widgets/controls",
            "_model_module_version": "1.5.0",
            "_model_name": "DescriptionStyleModel",
            "_view_count": null,
            "_view_module": "@jupyter-widgets/base",
            "_view_module_version": "1.2.0",
            "_view_name": "StyleView",
            "description_width": ""
          }
        }
      }
    }
  },
  "cells": [
    {
      "cell_type": "markdown",
      "metadata": {
        "id": "view-in-github",
        "colab_type": "text"
      },
      "source": [
        "<a href=\"https://colab.research.google.com/github/mritunjay29-ai/Namekart-Domain-Name-Evaluation/blob/main/Model_Namekart_Unsuccessful.ipynb\" target=\"_parent\"><img src=\"https://colab.research.google.com/assets/colab-badge.svg\" alt=\"Open In Colab\"/></a>"
      ]
    },
    {
      "cell_type": "code",
      "execution_count": 1,
      "metadata": {
        "id": "0XG81a1TbrLV"
      },
      "outputs": [],
      "source": [
        "import pandas as pd\n",
        "import numpy as np\n",
        "import torch\n",
        "import torch.nn as nn\n",
        "import torch.optim as optim\n",
        "import matplotlib.pyplot as plt\n",
        "from torch.utils.data import DataLoader, TensorDataset\n",
        "from sklearn.model_selection import train_test_split\n",
        "from sklearn.preprocessing import StandardScaler\n",
        "from transformers import DistilBertModel"
      ]
    },
    {
      "cell_type": "code",
      "source": [
        "df = pd.read_csv(\"/content/sample_data/data.csv\")"
      ],
      "metadata": {
        "id": "fyGErDPNb0cb"
      },
      "execution_count": 2,
      "outputs": []
    },
    {
      "cell_type": "code",
      "source": [
        "price_features = ['bidders', 'sld_length', 'encoded_category']\n",
        "bid_features = ['price']\n",
        "\n",
        "target_price = 'price'\n",
        "target_bid = 'bid_amount'\n",
        "\n",
        "X_price = df[price_features].values\n",
        "X_bid = df[bid_features].values\n",
        "y_price = df[target_price].values\n",
        "y_bid = df[target_bid].values\n",
        "\n",
        "X_price_train, X_price_test, X_bid_train, X_bid_test, y_price_train, y_price_test, y_bid_train, y_bid_test = train_test_split(\n",
        "    X_price, X_bid, y_price, y_bid, test_size=0.2, random_state=42\n",
        ")\n",
        "\n",
        "scaler_price = StandardScaler()\n",
        "scaler_bid = StandardScaler()\n",
        "\n",
        "X_price_train = scaler_price.fit_transform(X_price_train)\n",
        "X_price_test = scaler_price.transform(X_price_test)\n",
        "X_bid_train = scaler_bid.fit_transform(X_bid_train)\n",
        "X_bid_test = scaler_bid.transform(X_bid_test)"
      ],
      "metadata": {
        "id": "4fpVmV8hb0ZE"
      },
      "execution_count": 3,
      "outputs": []
    },
    {
      "cell_type": "code",
      "source": [
        "device = torch.device(\"cuda\" if torch.cuda.is_available() else \"cpu\")"
      ],
      "metadata": {
        "id": "pKYggvxab0Wd"
      },
      "execution_count": 4,
      "outputs": []
    },
    {
      "cell_type": "code",
      "source": [
        "X_price_train = torch.tensor(X_price_train, dtype=torch.float32).to(device)\n",
        "X_price_test = torch.tensor(X_price_test, dtype=torch.float32).to(device)\n",
        "X_bid_train = torch.tensor(X_bid_train, dtype=torch.float32).to(device)\n",
        "X_bid_test = torch.tensor(X_bid_test, dtype=torch.float32).to(device)\n",
        "y_price_train = torch.tensor(y_price_train, dtype=torch.float32).view(-1, 1).to(device)\n",
        "y_price_test = torch.tensor(y_price_test, dtype=torch.float32).view(-1, 1).to(device)\n",
        "y_bid_train = torch.tensor(y_bid_train, dtype=torch.float32).view(-1, 1).to(device)\n",
        "y_bid_test = torch.tensor(y_bid_test, dtype=torch.float32).view(-1, 1).to(device)\n",
        "\n",
        "batch_size = 32\n",
        "train_dataset = TensorDataset(X_price_train, X_bid_train, y_price_train, y_bid_train)\n",
        "train_loader = DataLoader(train_dataset, batch_size=batch_size, shuffle=True)"
      ],
      "metadata": {
        "id": "m3CvfBFob0Tc"
      },
      "execution_count": 5,
      "outputs": []
    },
    {
      "cell_type": "code",
      "source": [
        "class DistilBERTMultiTaskModel(nn.Module):\n",
        "    def __init__(self, price_dim, bid_dim):\n",
        "        super(DistilBERTMultiTaskModel, self).__init__()\n",
        "\n",
        "        self.bert = DistilBertModel.from_pretrained(\"distilbert-base-uncased\")\n",
        "\n",
        "        self.price_fc = nn.Linear(price_dim, 768)\n",
        "        self.bid_fc = nn.Linear(bid_dim, 768)\n",
        "\n",
        "        self.price_out = nn.Linear(768, 1)\n",
        "        self.bid_out = nn.Linear(768, 1)\n",
        "\n",
        "    def forward(self, x_price, x_bid):\n",
        "        x_price_embed = self.price_fc(x_price)\n",
        "        x_bid_embed = self.bid_fc(x_bid)\n",
        "\n",
        "        x_price_bert = self.bert(inputs_embeds=x_price_embed.unsqueeze(1)).last_hidden_state[:, 0, :]\n",
        "        x_bid_bert = self.bert(inputs_embeds=x_bid_embed.unsqueeze(1)).last_hidden_state[:, 0, :]\n",
        "\n",
        "        price_output = self.price_out(x_price_bert)\n",
        "        bid_output = self.bid_out(x_bid_bert)\n",
        "\n",
        "        return price_output, bid_output\n"
      ],
      "metadata": {
        "id": "Ej3d0OAub0Qt"
      },
      "execution_count": 6,
      "outputs": []
    },
    {
      "cell_type": "code",
      "source": [
        "input_price_dim = X_price_train.shape[1]\n",
        "input_bid_dim = X_bid_train.shape[1]\n",
        "model = DistilBERTMultiTaskModel(input_price_dim, input_bid_dim).to(device)\n",
        "\n",
        "criterion = nn.MSELoss()\n",
        "optimizer = optim.AdamW(model.parameters(), lr=0.0001)\n",
        "\n",
        "num_epochs = 100\n",
        "losses = []"
      ],
      "metadata": {
        "id": "G1SUnsCYb0N-",
        "colab": {
          "base_uri": "https://localhost:8080/",
          "height": 205,
          "referenced_widgets": [
            "1a6d17b228b84c2f89932de60fe0777e",
            "71905f18e55b4461aea816b6387a2c07",
            "4449ea14f3494429a4fee7658de5e5c1",
            "203d4e5e6dcf4fc09fd82ae3bbd84e92",
            "3cb987981e1f4f628d23fa236a8f46d9",
            "e245181a0b7f48dbb6d8d9c4ff4f6e59",
            "f468fc3ec14549b6930d010d858d9232",
            "555f3cb8743145029b7ee6b2e04062be",
            "2acf2b321a2347bb85a970248c395dd3",
            "4ef291a2663341f7870f782210f2de99",
            "813b61679b904cf185bf1fa10556daeb",
            "e64bf0dfdb9248aebd3a70a4a7a8c6b3",
            "89a0ad8119f1441bb3ea12d9484e374e",
            "727190d9608c4920abc8c9a3f0aeb33e",
            "54e1979a483649b580e28b9c29442cd1",
            "051f0fc8a971490691cf1a36b0119354",
            "4c86d05939114a19a6ee57a0fb066e46",
            "b714e52908ab492d9e2a93f82c91a7b0",
            "cd510e4212484a3cac4aa65ed0b866f0",
            "ec3d33bd09d9474ea7681019b3208cfe",
            "e1892e9d5389409d971cffe2a967139c",
            "90eb2b48571044cdae4d7d9899e69542"
          ]
        },
        "outputId": "f5a41f54-00d9-40b2-e8d3-fa31e8303628"
      },
      "execution_count": 7,
      "outputs": [
        {
          "output_type": "stream",
          "name": "stderr",
          "text": [
            "/usr/local/lib/python3.11/dist-packages/huggingface_hub/utils/_auth.py:94: UserWarning: \n",
            "The secret `HF_TOKEN` does not exist in your Colab secrets.\n",
            "To authenticate with the Hugging Face Hub, create a token in your settings tab (https://huggingface.co/settings/tokens), set it as secret in your Google Colab and restart your session.\n",
            "You will be able to reuse this secret in all of your notebooks.\n",
            "Please note that authentication is recommended but still optional to access public models or datasets.\n",
            "  warnings.warn(\n"
          ]
        },
        {
          "output_type": "display_data",
          "data": {
            "text/plain": [
              "config.json:   0%|          | 0.00/483 [00:00<?, ?B/s]"
            ],
            "application/vnd.jupyter.widget-view+json": {
              "version_major": 2,
              "version_minor": 0,
              "model_id": "1a6d17b228b84c2f89932de60fe0777e"
            }
          },
          "metadata": {}
        },
        {
          "output_type": "display_data",
          "data": {
            "text/plain": [
              "model.safetensors:   0%|          | 0.00/268M [00:00<?, ?B/s]"
            ],
            "application/vnd.jupyter.widget-view+json": {
              "version_major": 2,
              "version_minor": 0,
              "model_id": "e64bf0dfdb9248aebd3a70a4a7a8c6b3"
            }
          },
          "metadata": {}
        }
      ]
    },
    {
      "cell_type": "code",
      "source": [
        "def train_model(model, train_loader, optimizer, criterion, num_epochs=20):\n",
        "    model.train()\n",
        "    for epoch in range(num_epochs):\n",
        "        epoch_loss = 0\n",
        "        for X_price_batch, X_bid_batch, y_price_batch, y_bid_batch in train_loader:\n",
        "            optimizer.zero_grad()\n",
        "            price_pred, bid_pred = model(X_price_batch, X_bid_batch)\n",
        "            loss_price = criterion(price_pred, y_price_batch)\n",
        "            loss_bid = criterion(bid_pred, y_bid_batch)\n",
        "            total_loss = loss_price + loss_bid\n",
        "            total_loss.backward()\n",
        "            optimizer.step()\n",
        "\n",
        "            epoch_loss += total_loss.item()\n",
        "\n",
        "        losses.append(epoch_loss / len(train_loader))\n",
        "        if epoch % 5 == 0:\n",
        "            print(f'Epoch {epoch}, Loss: {epoch_loss / len(train_loader)}')\n",
        "\n",
        "    print(\"Training Complete\")"
      ],
      "metadata": {
        "id": "wxKdXB9eb0K9"
      },
      "execution_count": 8,
      "outputs": []
    },
    {
      "cell_type": "code",
      "source": [
        "train_model(model, train_loader, optimizer, criterion, num_epochs)"
      ],
      "metadata": {
        "colab": {
          "base_uri": "https://localhost:8080/"
        },
        "id": "H2ekZTXIb0H_",
        "outputId": "e0d4bc35-2a38-4487-cdae-12bad78cb40e"
      },
      "execution_count": null,
      "outputs": [
        {
          "output_type": "stream",
          "name": "stdout",
          "text": [
            "Epoch 0, Loss: 2964933.117419325\n",
            "Epoch 5, Loss: 2795735.4873008747\n",
            "Epoch 10, Loss: 2802723.729740942\n",
            "Epoch 15, Loss: 2802701.250273309\n",
            "Epoch 20, Loss: 2788624.380270967\n",
            "Epoch 25, Loss: 2802683.2926118616\n"
          ]
        }
      ]
    },
    {
      "cell_type": "code",
      "source": [
        "def evaluate_and_plot(model, X_price_test, X_bid_test, y_price_test, y_bid_test):\n",
        "    model.eval()\n",
        "    with torch.no_grad():\n",
        "        price_pred, bid_pred = model(X_price_test, X_bid_test)\n",
        "\n",
        "    plt.figure(figsize=(10, 5))\n",
        "    plt.plot(y_price_test.cpu().numpy(), label='Actual Price', color='blue')\n",
        "    plt.plot(price_pred.cpu().numpy(), label='Predicted Price', color='red', linestyle='dashed')\n",
        "    plt.legend()\n",
        "    plt.title('Actual vs Predicted Price')\n",
        "    plt.show()\n",
        "\n",
        "    plt.figure(figsize=(10, 5))\n",
        "    plt.plot(y_bid_test.cpu().numpy(), label='Actual Bid Amount', color='blue')\n",
        "    plt.plot(bid_pred.cpu().numpy(), label='Predicted Bid Amount', color='red', linestyle='dashed')\n",
        "    plt.legend()\n",
        "    plt.title('Actual vs Predicted Bid Amount')\n",
        "    plt.show()"
      ],
      "metadata": {
        "id": "K5EyzQ2Ab0FZ"
      },
      "execution_count": null,
      "outputs": []
    },
    {
      "cell_type": "code",
      "source": [
        "evaluate_and_plot(model, X_price_test, X_bid_test, y_price_test, y_bid_test)"
      ],
      "metadata": {
        "colab": {
          "base_uri": "https://localhost:8080/",
          "height": 919
        },
        "id": "OnfE16yhb0Cr",
        "outputId": "85d31755-f6cf-4eb3-8aae-b0ea99a0455d"
      },
      "execution_count": null,
      "outputs": [
        {
          "output_type": "display_data",
          "data": {
            "text/plain": [
              "<Figure size 1000x500 with 1 Axes>"
            ],
            "image/png": "[encoded data removed]"
          },
          "metadata": {}
        },
        {
          "output_type": "display_data",
          "data": {
            "text/plain": [
              "<Figure size 1000x500 with 1 Axes>"
            ],
            "image/png": "[encoded data removed]"
          },
          "metadata": {}
        }
      ]
    },
    {
      "cell_type": "code",
      "source": [
        "from sklearn.metrics import mean_squared_error, mean_absolute_error, r2_score, accuracy_score, precision_score, recall_score\n",
        "\n",
        "def evaluate_metrics(y_true, y_pred, task_name):\n",
        "    y_true = y_true.cpu().numpy().flatten()\n",
        "    y_pred = y_pred.cpu().numpy().flatten()\n",
        "\n",
        "    mse = mean_squared_error(y_true, y_pred)\n",
        "    rmse = np.sqrt(mse)\n",
        "    mae = mean_absolute_error(y_true, y_pred)\n",
        "    r2 = r2_score(y_true, y_pred)\n",
        "\n",
        "    print(f\"Metrics for {task_name}:\")\n",
        "    print(f\"  RMSE: {rmse:.4f}\")\n",
        "    print(f\"  MAE: {mae:.4f}\")\n",
        "    print(f\"  R² Score: {r2:.4f}\")\n",
        "\n",
        "    y_true_class = (y_true > np.median(y_true)).astype(int)  # Convert to binary\n",
        "    y_pred_class = (y_pred > np.median(y_true)).astype(int)\n",
        "\n",
        "    accuracy = accuracy_score(y_true_class, y_pred_class)\n",
        "    precision = precision_score(y_true_class, y_pred_class, zero_division=0)\n",
        "    recall = recall_score(y_true_class, y_pred_class, zero_division=0)\n",
        "\n",
        "    print(f\"  Accuracy: {accuracy:.4f}\")\n",
        "    print(f\"  Precision: {precision:.4f}\")\n",
        "    print(f\"  Recall: {recall:.4f}\")\n",
        "    print(\"\\n\")\n"
      ],
      "metadata": {
        "id": "0pd_8eIQbz_8"
      },
      "execution_count": null,
      "outputs": []
    },
    {
      "cell_type": "code",
      "source": [
        "model.eval()\n",
        "with torch.no_grad():\n",
        "    price_pred, bid_pred = model(X_price_test, X_bid_test)\n",
        "\n",
        "print(\"Evaluating Model Performance...\")\n",
        "evaluate_metrics(y_price_test, price_pred, \"Price Prediction\")\n",
        "evaluate_metrics(y_bid_test, bid_pred, \"Bid Amount Prediction\")"
      ],
      "metadata": {
        "colab": {
          "base_uri": "https://localhost:8080/"
        },
        "id": "5iSaQJzDbz9c",
        "outputId": "23da9884-ad48-48be-85a6-7a41a8e88f5a"
      },
      "execution_count": null,
      "outputs": [
        {
          "output_type": "stream",
          "name": "stdout",
          "text": [
            "Evaluating Model Performance...\n",
            "Metrics for Price Prediction:\n",
            "  RMSE: 1630.7190\n",
            "  MAE: 787.3549\n",
            "  R² Score: 0.0194\n",
            "  Accuracy: 0.4969\n",
            "  Precision: 0.4969\n",
            "  Recall: 1.0000\n",
            "\n",
            "\n",
            "Metrics for Bid Amount Prediction:\n",
            "  RMSE: 391.6372\n",
            "  MAE: 158.9562\n",
            "  R² Score: 0.0809\n",
            "  Accuracy: 0.5000\n",
            "  Precision: 0.5000\n",
            "  Recall: 1.0000\n",
            "\n",
            "\n"
          ]
        }
      ]
    },
    {
      "cell_type": "code",
      "source": [],
      "metadata": {
        "id": "io3BypYwbz6r"
      },
      "execution_count": null,
      "outputs": []
    },
    {
      "cell_type": "code",
      "source": [],
      "metadata": {
        "id": "vLEmWBrPbz36"
      },
      "execution_count": null,
      "outputs": []
    }
  ]
}