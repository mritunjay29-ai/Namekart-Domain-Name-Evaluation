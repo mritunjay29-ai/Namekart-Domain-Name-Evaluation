{
  "nbformat": 4,
  "nbformat_minor": 0,
  "metadata": {
    "colab": {
      "provenance": [],
      "gpuType": "T4",
      "authorship_tag": "ABX9TyOeSy5yPD0AL0HklcQUQUNq",
      "include_colab_link": true
    },
    "kernelspec": {
      "name": "python3",
      "display_name": "Python 3"
    },
    "language_info": {
      "name": "python"
    },
    "accelerator": "GPU"
  },
  "cells": [
    {
      "cell_type": "markdown",
      "metadata": {
        "id": "view-in-github",
        "colab_type": "text"
      },
      "source": [
        "<a href=\"https://colab.research.google.com/github/mritunjay29-ai/Namekart-Domain-Name-Evaluation/blob/main/Namekart_Price_Model_test.ipynb\" target=\"_parent\"><img src=\"https://colab.research.google.com/assets/colab-badge.svg\" alt=\"Open In Colab\"/></a>"
      ]
    },
    {
      "cell_type": "code",
      "execution_count": null,
      "metadata": {
        "id": "_eT-ju5eBr9v"
      },
      "outputs": [],
      "source": [
        "import pandas as pd\n",
        "import numpy as np\n",
        "import torch\n",
        "import torch.nn as nn\n",
        "import torch.optim as optim\n",
        "import matplotlib.pyplot as plt\n",
        "from sklearn.model_selection import train_test_split\n",
        "from sklearn.preprocessing import StandardScaler\n",
        "from transformers import BertModel"
      ]
    },
    {
      "cell_type": "code",
      "source": [
        "df = pd.read_csv(\"/content/data.csv\")"
      ],
      "metadata": {
        "id": "SHYFG5prFe0A"
      },
      "execution_count": null,
      "outputs": []
    },
    {
      "cell_type": "code",
      "source": [
        "price_features = ['bidders', 'sld_length', 'encoded_category']\n",
        "bid_features = ['price']\n",
        "\n",
        "target_price = 'price'\n",
        "target_bid = 'bid_amount'\n",
        "\n",
        "X_price = df[price_features].values\n",
        "X_bid = df[bid_features].values\n",
        "y_price = df[target_price].values\n",
        "y_bid = df[target_bid].values\n",
        "\n",
        "X_price_train, X_price_test, X_bid_train, X_bid_test, y_price_train, y_price_test, y_bid_train, y_bid_test = train_test_split(\n",
        "    X_price, X_bid, y_price, y_bid, test_size=0.2, random_state=42\n",
        ")\n",
        "\n",
        "scaler_price = StandardScaler()\n",
        "scaler_bid = StandardScaler()\n",
        "\n",
        "X_price_train = scaler_price.fit_transform(X_price_train)\n",
        "X_price_test = scaler_price.transform(X_price_test)\n",
        "X_bid_train = scaler_bid.fit_transform(X_bid_train)\n",
        "X_bid_test = scaler_bid.transform(X_bid_test)\n",
        "\n",
        "X_price_train = torch.tensor(X_price_train, dtype=torch.float32)\n",
        "X_price_test = torch.tensor(X_price_test, dtype=torch.float32)\n",
        "X_bid_train = torch.tensor(X_bid_train, dtype=torch.float32)\n",
        "X_bid_test = torch.tensor(X_bid_test, dtype=torch.float32)\n",
        "y_price_train = torch.tensor(y_price_train, dtype=torch.float32).view(-1, 1)\n",
        "y_price_test = torch.tensor(y_price_test, dtype=torch.float32).view(-1, 1)\n",
        "y_bid_train = torch.tensor(y_bid_train, dtype=torch.float32).view(-1, 1)\n",
        "y_bid_test = torch.tensor(y_bid_test, dtype=torch.float32).view(-1, 1)\n",
        "\n",
        "class BERTMultiTaskModel(nn.Module):\n",
        "    def __init__(self, price_dim, bid_dim):\n",
        "        super(BERTMultiTaskModel, self).__init__()\n",
        "\n",
        "        self.bert = BertModel.from_pretrained(\"bert-base-uncased\")\n",
        "\n",
        "        self.price_fc = nn.Linear(price_dim, 768)\n",
        "        self.bid_fc = nn.Linear(bid_dim, 768)\n",
        "\n",
        "        self.price_out = nn.Linear(768, 1)\n",
        "        self.bid_out = nn.Linear(768, 1)\n",
        "\n",
        "    def forward(self, x_price, x_bid):\n",
        "\n",
        "        x_price_embed = self.price_fc(x_price)\n",
        "        x_bid_embed = self.bid_fc(x_bid)\n",
        "\n",
        "        x_price_bert = self.bert(inputs_embeds=x_price_embed.unsqueeze(1)).last_hidden_state[:, 0, :]\n",
        "        x_bid_bert = self.bert(inputs_embeds=x_bid_embed.unsqueeze(1)).last_hidden_state[:, 0, :]\n",
        "\n",
        "        price_output = self.price_out(x_price_bert)\n",
        "        bid_output = self.bid_out(x_bid_bert)\n",
        "\n",
        "        return price_output, bid_output\n",
        "\n",
        "input_price_dim = X_price_train.shape[1]\n",
        "input_bid_dim = X_bid_train.shape[1]\n",
        "model = BERTMultiTaskModel(input_price_dim, input_bid_dim)\n",
        "\n",
        "criterion = nn.MSELoss()\n",
        "optimizer =\n",
        "num_epochs = 20\n",
        "losses = []\n",
        "\n",
        "def train_model(model, X_price_train, X_bid_train, y_price_train, y_bid_train, optimizer, criterion, num_epochs=20):\n",
        "    model.train()\n",
        "    for epoch in range(num_epochs):\n",
        "        optimizer.zero_grad()\n",
        "        price_pred, bid_pred = model(X_price_train, X_bid_train)\n",
        "        loss_price = criterion(price_pred, y_price_train)\n",
        "        loss_bid = criterion(bid_pred, y_bid_train)\n",
        "        total_loss = loss_price + loss_bid\n",
        "        total_loss.backward()\n",
        "        optimizer.step()\n",
        "\n",
        "        losses.append(total_loss.item())\n",
        "        if epoch % 5 == 0:\n",
        "            print(f'Epoch {epoch}, Loss: {total_loss.item()}')\n",
        "\n",
        "    print(\"Training Complete\")\n",
        "\n",
        "train_model(model, X_price_train, X_bid_train, y_price_train, y_bid_train, optimizer, criterion, num_epochs)\n",
        "\n",
        "def evaluate_and_plot(model, X_price_test, X_bid_test, y_price_test, y_bid_test):\n",
        "    model.eval()\n",
        "    with torch.no_grad():\n",
        "        price_pred, bid_pred = model(X_price_test, X_bid_test)\n",
        "\n",
        "    plt.figure(figsize=(10, 5))\n",
        "    plt.plot(y_price_test.numpy(), label='Actual Price', color='blue')\n",
        "    plt.plot(price_pred.numpy(), label='Predicted Price', color='red', linestyle='dashed')\n",
        "    plt.legend()\n",
        "    plt.title('Actual vs Predicted Price')\n",
        "    plt.show()\n",
        "\n",
        "    plt.figure(figsize=(10, 5))\n",
        "    plt.plot(y_bid_test.numpy(), label='Actual Bid Amount', color='blue')\n",
        "    plt.plot(bid_pred.numpy(), label='Predicted Bid Amount', color='red', linestyle='dashed')\n",
        "    plt.legend()\n",
        "    plt.title('Actual vs Predicted Bid Amount')\n",
        "    plt.show()\n",
        "\n",
        "evaluate_and_plot(model, X_price_test, X_bid_test, y_price_test, y_bid_test)\n"
      ],
      "metadata": {
        "colab": {
          "base_uri": "https://localhost:8080/"
        },
        "id": "Hk-aI8HIjWXd",
        "outputId": "80da0310-cb18-4338-c40f-fa2ea4609fdc"
      },
      "execution_count": null,
      "outputs": [
        {
          "output_type": "stream",
          "name": "stderr",
          "text": [
            "/usr/local/lib/python3.11/dist-packages/huggingface_hub/utils/_auth.py:94: UserWarning: \n",
            "The secret `HF_TOKEN` does not exist in your Colab secrets.\n",
            "To authenticate with the Hugging Face Hub, create a token in your settings tab (https://huggingface.co/settings/tokens), set it as secret in your Google Colab and restart your session.\n",
            "You will be able to reuse this secret in all of your notebooks.\n",
            "Please note that authentication is recommended but still optional to access public models or datasets.\n",
            "  warnings.warn(\n"
          ]
        }
      ]
    },
    {
      "cell_type": "code",
      "source": [],
      "metadata": {
        "id": "OoYbFUzGud1u"
      },
      "execution_count": null,
      "outputs": []
    },
    {
      "cell_type": "code",
      "source": [],
      "metadata": {
        "id": "T_y1JzNxudyR"
      },
      "execution_count": null,
      "outputs": []
    },
    {
      "cell_type": "code",
      "source": [],
      "metadata": {
        "id": "pjt3KZ75udvV"
      },
      "execution_count": null,
      "outputs": []
    },
    {
      "cell_type": "code",
      "source": [
        "X_price_train, X_price_test, X_bid_train, X_bid_test, y_price_train, y_price_test, y_bid_train, y_bid_test = train_test_split(\n",
        "    X_price, X_bid, y_price, y_bid, test_size=0.2, random_state=42\n",
        ")\n",
        "scaler_price = StandardScaler()\n",
        "scaler_bid = StandardScaler()\n",
        "\n",
        "X_price_train = scaler_price.fit_transform(X_price_train)\n",
        "X_price_test = scaler_price.transform(X_price_test)\n",
        "X_bid_train = scaler_bid.fit_transform(X_bid_train)\n",
        "X_bid_test = scaler_bid.transform(X_bid_test)\n",
        "\n",
        "X_price_train = torch.tensor(X_price_train, dtype=torch.float32)\n",
        "X_price_test = torch.tensor(X_price_test, dtype=torch.float32)\n",
        "X_bid_train = torch.tensor(X_bid_train, dtype=torch.float32)\n",
        "X_bid_test = torch.tensor(X_bid_test, dtype=torch.float32)\n",
        "y_price_train = torch.tensor(y_price_train, dtype=torch.float32).view(-1, 1)\n",
        "y_price_test = torch.tensor(y_price_test, dtype=torch.float32).view(-1, 1)\n",
        "y_bid_train = torch.tensor(y_bid_train, dtype=torch.float32).view(-1, 1)\n",
        "y_bid_test = torch.tensor(y_bid_test, dtype=torch.float32).view(-1, 1)"
      ],
      "metadata": {
        "id": "YPWPGnH5jghO"
      },
      "execution_count": null,
      "outputs": []
    },
    {
      "cell_type": "code",
      "source": [
        "class TransformerMultiTaskModel(nn.Module):\n",
        "    def __init__(self, price_dim, bid_dim):\n",
        "        super(TransformerMultiTaskModel, self).__init__()\n",
        "\n",
        "        self.price_proj = nn.Linear(price_dim, 128)\n",
        "        self.bid_proj = nn.Linear(bid_dim, 128)\n",
        "\n",
        "        self.shared_layer = nn.TransformerEncoder(\n",
        "            nn.TransformerEncoderLayer(d_model=128, nhead=8), num_layers=2\n",
        "        )\n",
        "\n",
        "        self.price_fc1 = nn.Linear(128, 64)\n",
        "        self.price_fc2 = nn.Linear(64, 32)\n",
        "        self.price_out = nn.Linear(32, 1)\n",
        "\n",
        "        self.bid_fc1 = nn.Linear(128, 64)\n",
        "        self.bid_fc2 = nn.Linear(64, 32)\n",
        "        self.bid_out = nn.Linear(32, 1)\n",
        "\n",
        "    def forward(self, x_price, x_bid):\n",
        "\n",
        "        x_price = self.price_proj(x_price)\n",
        "        x_bid = self.bid_proj(x_bid)\n",
        "\n",
        "        x_price = x_price.unsqueeze(0)\n",
        "        x_bid = x_bid.unsqueeze(0)\n",
        "\n",
        "        x_price = self.shared_layer(x_price).squeeze(0)\n",
        "        x_bid = self.shared_layer(x_bid).squeeze(0)\n",
        "\n",
        "        price_hidden = torch.relu(self.price_fc1(x_price))\n",
        "        price_hidden = torch.relu(self.price_fc2(price_hidden))\n",
        "        price_output = self.price_out(price_hidden)\n",
        "\n",
        "        bid_hidden = torch.relu(self.bid_fc1(x_bid))\n",
        "        bid_hidden = torch.relu(self.bid_fc2(bid_hidden))\n",
        "        bid_output = self.bid_out(bid_hidden)\n",
        "\n",
        "        return price_output, bid_output"
      ],
      "metadata": {
        "id": "OrgqXqOxffWC"
      },
      "execution_count": null,
      "outputs": []
    },
    {
      "cell_type": "code",
      "source": [
        "input_price_dim = X_price_train.shape[1]\n",
        "input_bid_dim = X_bid_train.shape[1]\n",
        "model = TransformerMultiTaskModel(input_price_dim, input_bid_dim)\n",
        "\n",
        "mse_loss = nn.MSELoss()\n",
        "optimizer = optim.Adam(model.parameters(), lr=0.001)\n",
        "\n",
        "num_epochs = 100\n",
        "losses = []"
      ],
      "metadata": {
        "colab": {
          "base_uri": "https://localhost:8080/"
        },
        "id": "EjEe1J3nffSp",
        "outputId": "c7e79f6c-d2d6-4144-dbe8-5be193a1f849"
      },
      "execution_count": null,
      "outputs": [
        {
          "output_type": "stream",
          "name": "stderr",
          "text": [
            "/usr/local/lib/python3.11/dist-packages/torch/nn/modules/transformer.py:379: UserWarning: enable_nested_tensor is True, but self.use_nested_tensor is False because encoder_layer.self_attn.batch_first was not True(use batch_first for better inference performance)\n",
            "  warnings.warn(\n"
          ]
        }
      ]
    },
    {
      "cell_type": "code",
      "source": [
        "def train_model(model, X_price_train, X_bid_train, y_price_train, y_bid_train, optimizer, mse_loss, num_epochs=100):\n",
        "    model.train()\n",
        "    for epoch in range(num_epochs):\n",
        "        optimizer.zero_grad()\n",
        "        price_pred, bid_pred = model(X_price_train, X_bid_train)\n",
        "        loss_price = mse_loss(price_pred, y_price_train)\n",
        "        loss_bid = mse_loss(bid_pred, y_bid_train)\n",
        "        total_loss = loss_price + loss_bid\n",
        "        total_loss.backward()\n",
        "        optimizer.step()\n",
        "\n",
        "        losses.append(total_loss.item())\n",
        "        if epoch % 10 == 0:\n",
        "            print(f'Epoch {epoch}, Loss: {total_loss.item()}')\n",
        "\n",
        "    print(\"Training Complete\")\n",
        "\n",
        "train_model(model, X_price_train, X_bid_train, y_price_train, y_bid_train, optimizer, mse_loss, num_epochs)"
      ],
      "metadata": {
        "id": "54C05S8-ffP7"
      },
      "execution_count": null,
      "outputs": []
    },
    {
      "cell_type": "code",
      "source": [
        "def evaluate_and_plot(model, X_price_test, X_bid_test, y_price_test, y_bid_test):\n",
        "    model.eval()\n",
        "    with torch.no_grad():\n",
        "        price_pred, bid_pred = model(X_price_test, X_bid_test)\n",
        "\n",
        "    plt.figure(figsize=(10, 5))\n",
        "    plt.plot(y_price_test.numpy(), label='Actual Price', color='blue')\n",
        "    plt.plot(price_pred.numpy(), label='Predicted Price', color='red', linestyle='dashed')\n",
        "    plt.legend()\n",
        "    plt.title('Actual vs Predicted Price')\n",
        "    plt.show()\n",
        "\n",
        "    plt.figure(figsize=(10, 5))\n",
        "    plt.plot(y_bid_test.numpy(), label='Actual Bid Amount', color='blue')\n",
        "    plt.plot(bid_pred.numpy(), label='Predicted Bid Amount', color='red', linestyle='dashed')\n",
        "    plt.legend()\n",
        "    plt.title('Actual vs Predicted Bid Amount')\n",
        "    plt.show()"
      ],
      "metadata": {
        "id": "7gHsw6TEffNV"
      },
      "execution_count": null,
      "outputs": []
    },
    {
      "cell_type": "code",
      "source": [
        "evaluate_and_plot(model, X_price_test, X_bid_test, y_price_test, y_bid_test)"
      ],
      "metadata": {
        "id": "thYmCEtzffKe"
      },
      "execution_count": null,
      "outputs": []
    },
    {
      "cell_type": "code",
      "source": [],
      "metadata": {
        "id": "5N8FMpIkffH9"
      },
      "execution_count": null,
      "outputs": []
    },
    {
      "cell_type": "code",
      "source": [],
      "metadata": {
        "id": "gu0rSESHffFG"
      },
      "execution_count": null,
      "outputs": []
    },
    {
      "cell_type": "code",
      "source": [],
      "metadata": {
        "id": "MMi1ubyQffCK"
      },
      "execution_count": null,
      "outputs": []
    },
    {
      "cell_type": "code",
      "source": [],
      "metadata": {
        "id": "Z8lxGA05fe_q"
      },
      "execution_count": null,
      "outputs": []
    },
    {
      "cell_type": "code",
      "source": [],
      "metadata": {
        "id": "Tn58q4iafe8h"
      },
      "execution_count": null,
      "outputs": []
    },
    {
      "cell_type": "code",
      "source": [],
      "metadata": {
        "id": "1WpOL2ZCfe5V"
      },
      "execution_count": null,
      "outputs": []
    },
    {
      "cell_type": "code",
      "source": [],
      "metadata": {
        "id": "nkMoFJ7_fewQ"
      },
      "execution_count": null,
      "outputs": []
    },
    {
      "cell_type": "code",
      "source": [
        "df.head()"
      ],
      "metadata": {
        "id": "A0BK7e7-JUQP"
      },
      "execution_count": null,
      "outputs": []
    },
    {
      "cell_type": "code",
      "source": [
        "shared_features = ['keyword_exact_cpc', 'sld_length', 'bidders']\n",
        "price_specific_features = ['encoded_category', 'extensions_taken']\n",
        "bid_specific_features = ['extensions_taken']\n"
      ],
      "metadata": {
        "id": "lFKGb86kJXuL"
      },
      "execution_count": null,
      "outputs": []
    },
    {
      "cell_type": "code",
      "source": [
        "target_price = 'price'\n",
        "target_bid = 'bid_amount'"
      ],
      "metadata": {
        "id": "PhVUo_T5JaUX"
      },
      "execution_count": null,
      "outputs": []
    },
    {
      "cell_type": "code",
      "source": [
        "X_shared = df[shared_features].values\n",
        "X_price = df[price_specific_features].values\n",
        "X_bid = df[bid_specific_features].values"
      ],
      "metadata": {
        "id": "scDfsRnlJcaK"
      },
      "execution_count": null,
      "outputs": []
    },
    {
      "cell_type": "code",
      "source": [
        "y_price = df[target_price].values\n",
        "y_bid = df[target_bid].values"
      ],
      "metadata": {
        "id": "z3lwyp3LJeCr"
      },
      "execution_count": null,
      "outputs": []
    },
    {
      "cell_type": "code",
      "source": [
        "X_shared_train, X_shared_test, X_price_train, X_price_test, X_bid_train, X_bid_test, y_price_train, y_price_test, y_bid_train, y_bid_test = train_test_split(\n",
        "    X_shared, X_price, X_bid, y_price, y_bid, test_size=0.2, random_state=42\n",
        ")"
      ],
      "metadata": {
        "id": "RvVEGRV1Jgmc"
      },
      "execution_count": null,
      "outputs": []
    },
    {
      "cell_type": "code",
      "source": [
        "scaler_shared = StandardScaler()\n",
        "scaler_price = StandardScaler()\n",
        "scaler_bid = StandardScaler()"
      ],
      "metadata": {
        "id": "MDRYEmdAJim-"
      },
      "execution_count": null,
      "outputs": []
    },
    {
      "cell_type": "code",
      "source": [
        "X_shared_train = scaler_shared.fit_transform(X_shared_train)\n",
        "X_shared_test = scaler_shared.transform(X_shared_test)\n",
        "\n",
        "X_price_train = scaler_price.fit_transform(X_price_train)\n",
        "X_price_test = scaler_price.transform(X_price_test)\n",
        "\n",
        "X_bid_train = scaler_bid.fit_transform(X_bid_train)\n",
        "X_bid_test = scaler_bid.transform(X_bid_test)"
      ],
      "metadata": {
        "id": "rczE91XZJk3H"
      },
      "execution_count": null,
      "outputs": []
    },
    {
      "cell_type": "code",
      "source": [
        "X_shared_train = torch.tensor(X_shared_train, dtype=torch.float32)\n",
        "X_shared_test = torch.tensor(X_shared_test, dtype=torch.float32)\n",
        "X_price_train = torch.tensor(X_price_train, dtype=torch.float32)\n",
        "X_price_test = torch.tensor(X_price_test, dtype=torch.float32)\n",
        "X_bid_train = torch.tensor(X_bid_train, dtype=torch.float32)\n",
        "X_bid_test = torch.tensor(X_bid_test, dtype=torch.float32)"
      ],
      "metadata": {
        "id": "EJ3xjNLOJmwT"
      },
      "execution_count": null,
      "outputs": []
    },
    {
      "cell_type": "code",
      "source": [
        "y_price_train = torch.tensor(y_price_train, dtype=torch.float32).view(-1, 1)\n",
        "y_price_test = torch.tensor(y_price_test, dtype=torch.float32).view(-1, 1)\n",
        "y_bid_train = torch.tensor(y_bid_train, dtype=torch.float32).view(-1, 1)\n",
        "y_bid_test = torch.tensor(y_bid_test, dtype=torch.float32).view(-1, 1)"
      ],
      "metadata": {
        "id": "vcfWG7baJpH-"
      },
      "execution_count": null,
      "outputs": []
    },
    {
      "cell_type": "code",
      "source": [
        "class MultiTaskModel(nn.Module):\n",
        "    def __init__(self, shared_dim, price_dim, bid_dim):\n",
        "        super(MultiTaskModel, self).__init__()\n",
        "\n",
        "        self.shared_fc = nn.Linear(shared_dim, 128)\n",
        "        self.shared_relu = nn.ReLU()\n",
        "\n",
        "        self.price_fc1 = nn.Linear(128 + price_dim, 64)\n",
        "        self.price_out = nn.Linear(64, 1)\n",
        "\n",
        "        self.bid_fc1 = nn.Linear(128 + bid_dim, 64)\n",
        "        self.bid_out = nn.Linear(64, 1)\n",
        "\n",
        "    def forward(self, x_shared, x_price, x_bid):\n",
        "        shared_features = self.shared_relu(self.shared_fc(x_shared))\n",
        "\n",
        "        price_input = torch.cat((shared_features, x_price), dim=1)\n",
        "        price_hidden = torch.relu(self.price_fc1(price_input))\n",
        "        price_output = self.price_out(price_hidden)\n",
        "\n",
        "        bid_input = torch.cat((shared_features, x_bid), dim=1)\n",
        "        bid_hidden = torch.relu(self.bid_fc1(bid_input))\n",
        "        bid_output = self.bid_out(bid_hidden)\n",
        "\n",
        "        return price_output, bid_output"
      ],
      "metadata": {
        "id": "ibqC2eo3JtkY"
      },
      "execution_count": null,
      "outputs": []
    },
    {
      "cell_type": "code",
      "source": [
        "shared_dim = X_shared_train.shape[1]\n",
        "price_dim = X_price_train.shape[1]\n",
        "bid_dim = X_bid_train.shape[1]"
      ],
      "metadata": {
        "id": "PudY7GIsJvh-"
      },
      "execution_count": null,
      "outputs": []
    },
    {
      "cell_type": "code",
      "source": [
        "model = MultiTaskModel(shared_dim, price_dim, bid_dim)"
      ],
      "metadata": {
        "id": "Bb4BVRIHP2kN"
      },
      "execution_count": null,
      "outputs": []
    },
    {
      "cell_type": "code",
      "source": [
        "mse_loss = nn.MSELoss()\n",
        "kl_loss = nn.KLDivLoss(reduction='batchmean')\n",
        "optimizer = optim.Adam(model.parameters(), lr=0.001)"
      ],
      "metadata": {
        "id": "wP2Ml7WdJyHs"
      },
      "execution_count": null,
      "outputs": []
    },
    {
      "cell_type": "code",
      "source": [
        "num_epochs = 100\n",
        "losses = []"
      ],
      "metadata": {
        "id": "KaGfQJ_CJ5Mb"
      },
      "execution_count": null,
      "outputs": []
    },
    {
      "cell_type": "code",
      "source": [
        "def train_model(model, X_shared_train, X_price_train, X_bid_train, y_price_train, y_bid_train, optimizer, num_epochs=100):\n",
        "    model.train()\n",
        "    for epoch in range(num_epochs):\n",
        "        optimizer.zero_grad()\n",
        "        price_pred, bid_pred = model(X_shared_train, X_price_train, X_bid_train)\n",
        "        loss_price = mse_loss(price_pred, y_price_train)\n",
        "        loss_bid = mse_loss(bid_pred, y_bid_train)\n",
        "        total_loss = loss_price + loss_bid\n",
        "        total_loss.backward()\n",
        "        optimizer.step()\n",
        "\n",
        "        losses.append(total_loss.item())\n",
        "        if epoch % 10 == 0:\n",
        "            print(f'Epoch {epoch}, Loss: {total_loss.item()}')\n",
        "\n",
        "    print(\"Training Complete\")"
      ],
      "metadata": {
        "id": "IZ1jxQxNJ7JG"
      },
      "execution_count": null,
      "outputs": []
    },
    {
      "cell_type": "code",
      "source": [
        "train_model(model, X_shared_train, X_price_train, X_bid_train, y_price_train, y_bid_train, optimizer, num_epochs)"
      ],
      "metadata": {
        "id": "LKCWY206KhYM"
      },
      "execution_count": null,
      "outputs": []
    },
    {
      "cell_type": "code",
      "source": [
        "def evaluate_and_plot(model, X_shared_test, X_price_test, X_bid_test, y_price_test, y_bid_test):\n",
        "    model.eval()\n",
        "    with torch.no_grad():\n",
        "        price_pred, bid_pred = model(X_shared_test, X_price_test, X_bid_test)\n",
        "\n",
        "    plt.figure(figsize=(10, 5))\n",
        "    plt.plot(y_price_test.numpy(), label='Actual Price', color='blue')\n",
        "    plt.plot(price_pred.numpy(), label='Predicted Price', color='red', linestyle='dashed')\n",
        "    plt.legend()\n",
        "    plt.title('Actual vs Predicted Price')\n",
        "    plt.show()\n",
        "\n",
        "    plt.figure(figsize=(10, 5))\n",
        "    plt.plot(y_bid_test.numpy(), label='Actual Bid Amount', color='blue')\n",
        "    plt.plot(bid_pred.numpy(), label='Predicted Bid Amount', color='red', linestyle='dashed')\n",
        "    plt.legend()\n",
        "    plt.title('Actual vs Predicted Bid Amount')\n",
        "    plt.show()"
      ],
      "metadata": {
        "id": "eWrn_Q1HTmQn"
      },
      "execution_count": null,
      "outputs": []
    },
    {
      "cell_type": "code",
      "source": [
        "evaluate_and_plot(model, X_shared_test, X_price_test, X_bid_test, y_price_test, y_bid_test)\n"
      ],
      "metadata": {
        "id": "wJ5vO435TqXa"
      },
      "execution_count": null,
      "outputs": []
    },
    {
      "cell_type": "code",
      "source": [
        "price_features = ['bidders', 'sld_length', 'encoded_category']\n",
        "bid_features = ['price']\n",
        "\n",
        "target_price = 'price'\n",
        "target_bid = 'bid_amount'\n",
        "\n",
        "X_price = df[price_features].values\n",
        "X_bid = df[bid_features].values\n",
        "\n",
        "y_price = df[target_price].values\n",
        "y_bid = df[target_bid].values\n",
        "\n",
        "X_price_train, X_price_test, X_bid_train, X_bid_test, y_price_train, y_price_test, y_bid_train, y_bid_test = train_test_split(\n",
        "    X_price, X_bid, y_price, y_bid, test_size=0.2, random_state=42\n",
        ")\n",
        "scaler_price = StandardScaler()\n",
        "scaler_bid = StandardScaler()\n",
        "\n",
        "X_price_train = scaler_price.fit_transform(X_price_train)\n",
        "X_price_test = scaler_price.transform(X_price_test)\n",
        "X_bid_train = scaler_bid.fit_transform(X_bid_train)\n",
        "X_bid_test = scaler_bid.transform(X_bid_test)\n",
        "\n",
        "X_price_train = torch.tensor(X_price_train, dtype=torch.float32)\n",
        "X_price_test = torch.tensor(X_price_test, dtype=torch.float32)\n",
        "X_bid_train = torch.tensor(X_bid_train, dtype=torch.float32)\n",
        "X_bid_test = torch.tensor(X_bid_test, dtype=torch.float32)\n",
        "y_price_train = torch.tensor(y_price_train, dtype=torch.float32).view(-1, 1)\n",
        "y_price_test = torch.tensor(y_price_test, dtype=torch.float32).view(-1, 1)\n",
        "y_bid_train = torch.tensor(y_bid_train, dtype=torch.float32).view(-1, 1)\n",
        "y_bid_test = torch.tensor(y_bid_test, dtype=torch.float32).view(-1, 1)\n",
        "\n",
        "class MultiTaskModel(nn.Module):\n",
        "    def __init__(self, price_dim, bid_dim):\n",
        "        super(MultiTaskModel, self).__init__()\n",
        "\n",
        "        self.price_fc1 = nn.Linear(price_dim, 64)\n",
        "        self.price_fc2 = nn.Linear(64, 32)\n",
        "        self.price_out = nn.Linear(32, 1)\n",
        "\n",
        "        self.bid_fc1 = nn.Linear(bid_dim, 64)\n",
        "        self.bid_fc2 = nn.Linear(64, 32)\n",
        "        self.bid_out = nn.Linear(32, 1)\n",
        "\n",
        "    def forward(self, x_price, x_bid):\n",
        "        price_hidden = torch.relu(self.price_fc1(x_price))\n",
        "        price_hidden = torch.relu(self.price_fc2(price_hidden))\n",
        "        price_output = self.price_out(price_hidden)\n",
        "\n",
        "        bid_hidden = torch.relu(self.bid_fc1(x_bid))\n",
        "        bid_hidden = torch.relu(self.bid_fc2(bid_hidden))\n",
        "        bid_output = self.bid_out(bid_hidden)\n",
        "\n",
        "        return price_output, bid_output\n",
        "\n",
        "input_price_dim = X_price_train.shape[1]\n",
        "input_bid_dim = X_bid_train.shape[1]\n",
        "model = MultiTaskModel(input_price_dim, input_bid_dim)\n",
        "\n",
        "mse_loss = nn.MSELoss()\n",
        "optimizer = optim.Adam(model.parameters(), lr=0.001)\n",
        "\n",
        "num_epochs = 100\n",
        "losses = []"
      ],
      "metadata": {
        "id": "e1gPyLkMUux0"
      },
      "execution_count": null,
      "outputs": []
    },
    {
      "cell_type": "code",
      "source": [
        "def train_model(model, X_price_train, X_bid_train, y_price_train, y_bid_train, optimizer, mse_loss, num_epochs=100):\n",
        "    model.train()\n",
        "    for epoch in range(num_epochs):\n",
        "        optimizer.zero_grad()\n",
        "        price_pred, bid_pred = model(X_price_train, X_bid_train)\n",
        "        loss_price = mse_loss(price_pred, y_price_train)\n",
        "        loss_bid = mse_loss(bid_pred, y_bid_train)\n",
        "        total_loss = loss_price + loss_bid\n",
        "        total_loss.backward()\n",
        "        optimizer.step()\n",
        "\n",
        "        losses.append(total_loss.item())\n",
        "        if epoch % 10 == 0:\n",
        "            print(f'Epoch {epoch}, Loss: {total_loss.item()}')\n",
        "\n",
        "    print(\"Training Complete\")\n",
        "\n",
        "train_model(model, X_price_train, X_bid_train, y_price_train, y_bid_train, optimizer, mse_loss, num_epochs)"
      ],
      "metadata": {
        "id": "ai8954GEWUCl"
      },
      "execution_count": null,
      "outputs": []
    },
    {
      "cell_type": "code",
      "source": [
        "def evaluate_and_plot(model, X_price_test, X_bid_test, y_price_test, y_bid_test):\n",
        "    model.eval()\n",
        "    with torch.no_grad():\n",
        "        price_pred, bid_pred = model(X_price_test, X_bid_test)\n",
        "\n",
        "    plt.figure(figsize=(10, 5))\n",
        "    plt.plot(y_price_test.numpy(), label='Actual Price', color='blue')\n",
        "    plt.plot(price_pred.numpy(), label='Predicted Price', color='red', linestyle='dashed')\n",
        "    plt.legend()\n",
        "    plt.title('Actual vs Predicted Price')\n",
        "    plt.show()\n",
        "\n",
        "    plt.figure(figsize=(10, 5))\n",
        "    plt.plot(y_bid_test.numpy(), label='Actual Bid Amount', color='blue')\n",
        "    plt.plot(bid_pred.numpy(), label='Predicted Bid Amount', color='red', linestyle='dashed')\n",
        "    plt.legend()\n",
        "    plt.title('Actual vs Predicted Bid Amount')\n",
        "    plt.show()\n",
        "\n",
        "evaluate_and_plot(model, X_price_test, X_bid_test, y_price_test, y_bid_test)"
      ],
      "metadata": {
        "id": "rabfV1lEWZlT"
      },
      "execution_count": null,
      "outputs": []
    },
    {
      "cell_type": "code",
      "source": [],
      "metadata": {
        "id": "y_exLrjkWkQp"
      },
      "execution_count": null,
      "outputs": []
    },
    {
      "cell_type": "code",
      "source": [],
      "metadata": {
        "id": "1mUFVk4jssTO"
      },
      "execution_count": null,
      "outputs": []
    },
    {
      "cell_type": "code",
      "source": [],
      "metadata": {
        "id": "n37QM5qxssP3"
      },
      "execution_count": null,
      "outputs": []
    },
    {
      "cell_type": "code",
      "source": [],
      "metadata": {
        "id": "Sl2ZJio1ssNo"
      },
      "execution_count": null,
      "outputs": []
    },
    {
      "cell_type": "code",
      "source": [],
      "metadata": {
        "id": "kldQLlBhssK_"
      },
      "execution_count": null,
      "outputs": []
    },
    {
      "cell_type": "code",
      "source": [],
      "metadata": {
        "id": "6OwCRIWvssIK"
      },
      "execution_count": null,
      "outputs": []
    },
    {
      "cell_type": "code",
      "source": [],
      "metadata": {
        "id": "3reDJTB9ssE_"
      },
      "execution_count": null,
      "outputs": []
    },
    {
      "cell_type": "code",
      "source": [],
      "metadata": {
        "id": "vMDgh_pJssCh"
      },
      "execution_count": null,
      "outputs": []
    },
    {
      "cell_type": "code",
      "source": [],
      "metadata": {
        "id": "GyE5e7Eesr_j"
      },
      "execution_count": null,
      "outputs": []
    }
  ]
}